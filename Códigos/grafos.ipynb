{
 "cells": [
  {
   "cell_type": "markdown",
   "source": [
    "# Código \r\n",
    "\r\n",
    "### coordenadas \r\n",
    "\r\n",
    "terminal: -22,00536655623292, -47.88947534745557\r\n",
    "Suzantur: -22,038583068420614, -47.87408229249609\r\n",
    "av são carlos: -22.028989338820423, -47.89057143765615\r\n",
    "longe1: -21.98263692887776, -47.884648745846015\r\n",
    "longe2: -22.05134704383444, -47.896302752011245\r\n",
    "longe3: -21,98624108944486, -47.93243636049348"
   ],
   "metadata": {}
  },
  {
   "cell_type": "code",
   "execution_count": null,
   "source": [
    "import sqlite3\r\n",
    "\r\n",
    "# conn = connection\r\n",
    "conn = sqlite3.connect('teste_sancathon.sqlite')\r\n",
    "cursor = conn.cursor()\r\n",
    "\r\n",
    "cursor.execute('DROP TABLE IF EXISTS Counts')\r\n",
    "\r\n",
    "cursor.execute('''\r\n",
    "CREATE TABLE Location (adress TEXT, lat REAL, long REAL)'''\r\n",
    ")\r\n",
    "\r\n",
    "a1 = {'adress': 'terminal','lat': -22.00536655623292,'long': -47.88947534745557}\r\n",
    "a2 = {'adress': 'Suzantur','lat': -22.038583068420614,'long': -47.87408229249609}\r\n",
    "a3 = {'adress': 'longe3','lat': -21.98624108944486,'long': -47.93243636049348}\r\n",
    "\r\n",
    "command = f\"INSERT INTO  Location (adress, lat, long) VALUES ({a1['adress']}, {a1['lat']}, {a3['long']})\"\r\n",
    "cursor.execute(command)\r\n",
    "\r\n"
   ],
   "outputs": [],
   "metadata": {}
  }
 ],
 "metadata": {
  "orig_nbformat": 4,
  "language_info": {
   "name": "python",
   "version": "3.9.1"
  },
  "kernelspec": {
   "name": "python3",
   "display_name": "Python 3.9.1 64-bit"
  },
  "interpreter": {
   "hash": "7c239c9e803aa87c3815454c42da92f1af28c0cbd1b711d488a058e58bc0122e"
  }
 },
 "nbformat": 4,
 "nbformat_minor": 2
}